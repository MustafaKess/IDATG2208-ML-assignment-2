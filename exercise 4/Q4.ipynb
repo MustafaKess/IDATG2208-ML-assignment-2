{
 "cells": [
  {
   "cell_type": "markdown",
   "id": "f4593349",
   "metadata": {},
   "source": [
    "# Exercise-4: Model Comparison"
   ]
  }
 ],
 "metadata": {
  "language_info": {
   "name": "python"
  }
 },
 "nbformat": 4,
 "nbformat_minor": 5
}
