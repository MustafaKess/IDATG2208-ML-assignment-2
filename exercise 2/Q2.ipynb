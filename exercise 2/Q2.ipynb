{
 "cells": [
  {
   "cell_type": "markdown",
   "id": "68f6ae6b",
   "metadata": {},
   "source": [
    "# Exercise-2: Decision Trees \n",
    "### Code preperations"
   ]
  },
  {
   "cell_type": "code",
   "execution_count": 9,
   "id": "44d5ef06",
   "metadata": {},
   "outputs": [],
   "source": [
    "import pandas as pd\n",
    "from sklearn.model_selection import train_test_split\n",
    "\n",
    "df = pd.read_csv(\"../archive/data.csv\")\n",
    "df = df.drop(columns=['id', 'Unnamed: 32'], errors='ignore')\n",
    "\n",
    "X = df.drop(columns=['diagnosis'])\n",
    "y = df['diagnosis'].map({'M':1, 'B':0})\n",
    "\n",
    "X_train, X_temp, y_train, y_temp = train_test_split(X, y, test_size=0.4, random_state=42, stratify=y)\n",
    "X_val, X_test, y_val, y_test = train_test_split(X_temp, y_temp, test_size=0.5, random_state=42, stratify=y_temp)"
   ]
  },
  {
   "cell_type": "markdown",
   "id": "475c85a8",
   "metadata": {},
   "source": [
    "### Q2.1  Train a Decision Tree classifier using default parameters. Evaluate it on validation sets from original splits (report accuracy mean and std). "
   ]
  },
  {
   "cell_type": "code",
   "execution_count": 10,
   "id": "755cd017",
   "metadata": {},
   "outputs": [
    {
     "name": "stdout",
     "output_type": "stream",
     "text": [
      "Validation Accuracy: 0.9386\n"
     ]
    }
   ],
   "source": [
    "from sklearn.tree import DecisionTreeClassifier\n",
    "from sklearn.metrics import accuracy_score\n",
    "import numpy as np\n",
    "\n",
    "# Initialize Decision Tree with default parameters\n",
    "clf = DecisionTreeClassifier(random_state=42)\n",
    "\n",
    "# Train the model\n",
    "clf.fit(X_train, y_train)\n",
    "\n",
    "# Predict on validation set\n",
    "y_val_pred = clf.predict(X_val)\n",
    "\n",
    "# Compute accuracy\n",
    "accuracy = accuracy_score(y_val, y_val_pred)\n",
    "print(f\"Validation Accuracy: {accuracy:.4f}\")\n"
   ]
  }
 ],
 "metadata": {
  "kernelspec": {
   "display_name": "Python 3",
   "language": "python",
   "name": "python3"
  },
  "language_info": {
   "codemirror_mode": {
    "name": "ipython",
    "version": 3
   },
   "file_extension": ".py",
   "mimetype": "text/x-python",
   "name": "python",
   "nbconvert_exporter": "python",
   "pygments_lexer": "ipython3",
   "version": "3.11.9"
  }
 },
 "nbformat": 4,
 "nbformat_minor": 5
}
